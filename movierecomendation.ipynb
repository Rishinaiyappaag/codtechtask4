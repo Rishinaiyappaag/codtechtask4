{
  "nbformat": 4,
  "nbformat_minor": 0,
  "metadata": {
    "colab": {
      "provenance": []
    },
    "kernelspec": {
      "name": "python3",
      "display_name": "Python 3"
    },
    "language_info": {
      "name": "python"
    }
  },
  "cells": [
    {
      "cell_type": "code",
      "source": [
        "# Downgrade NumPy to version 1.x (e.g. 1.24.4)\n",
        "!pip install numpy==1.24.4\n"
      ],
      "metadata": {
        "id": "Q1u6aEbfJO25"
      },
      "execution_count": null,
      "outputs": []
    },
    {
      "cell_type": "code",
      "source": [
        "!pip install scikit-surprise\n"
      ],
      "metadata": {
        "colab": {
          "base_uri": "https://localhost:8080/"
        },
        "id": "hNGtZRcsIiSg",
        "outputId": "29464602-3891-4562-a4c7-d8badd98d1e6"
      },
      "execution_count": 1,
      "outputs": [
        {
          "output_type": "stream",
          "name": "stdout",
          "text": [
            "Requirement already satisfied: scikit-surprise in /usr/local/lib/python3.11/dist-packages (1.1.4)\n",
            "Requirement already satisfied: joblib>=1.2.0 in /usr/local/lib/python3.11/dist-packages (from scikit-surprise) (1.5.1)\n",
            "Requirement already satisfied: numpy>=1.19.5 in /usr/local/lib/python3.11/dist-packages (from scikit-surprise) (1.24.4)\n",
            "Requirement already satisfied: scipy>=1.6.0 in /usr/local/lib/python3.11/dist-packages (from scikit-surprise) (1.15.3)\n"
          ]
        }
      ]
    },
    {
      "cell_type": "code",
      "source": [
        "!wget http://files.grouplens.org/datasets/movielens/ml-100k.zip\n",
        "!unzip -o ml-100k.zip\n"
      ],
      "metadata": {
        "colab": {
          "base_uri": "https://localhost:8080/"
        },
        "id": "Mm5obbZ5HLCm",
        "outputId": "016cbd1b-c51c-46a9-d6c9-d1be6ad38084"
      },
      "execution_count": 2,
      "outputs": [
        {
          "output_type": "stream",
          "name": "stdout",
          "text": [
            "--2025-07-18 10:48:06--  http://files.grouplens.org/datasets/movielens/ml-100k.zip\n",
            "Resolving files.grouplens.org (files.grouplens.org)... 128.101.65.152\n",
            "Connecting to files.grouplens.org (files.grouplens.org)|128.101.65.152|:80... connected.\n",
            "HTTP request sent, awaiting response... 200 OK\n",
            "Length: 4924029 (4.7M) [application/zip]\n",
            "Saving to: ‘ml-100k.zip.1’\n",
            "\n",
            "ml-100k.zip.1       100%[===================>]   4.70M  15.9MB/s    in 0.3s    \n",
            "\n",
            "2025-07-18 10:48:07 (15.9 MB/s) - ‘ml-100k.zip.1’ saved [4924029/4924029]\n",
            "\n",
            "Archive:  ml-100k.zip\n",
            "  inflating: ml-100k/allbut.pl       \n",
            "  inflating: ml-100k/mku.sh          \n",
            "  inflating: ml-100k/README          \n",
            "  inflating: ml-100k/u.data          \n",
            "  inflating: ml-100k/u.genre         \n",
            "  inflating: ml-100k/u.info          \n",
            "  inflating: ml-100k/u.item          \n",
            "  inflating: ml-100k/u.occupation    \n",
            "  inflating: ml-100k/u.user          \n",
            "  inflating: ml-100k/u1.base         \n",
            "  inflating: ml-100k/u1.test         \n",
            "  inflating: ml-100k/u2.base         \n",
            "  inflating: ml-100k/u2.test         \n",
            "  inflating: ml-100k/u3.base         \n",
            "  inflating: ml-100k/u3.test         \n",
            "  inflating: ml-100k/u4.base         \n",
            "  inflating: ml-100k/u4.test         \n",
            "  inflating: ml-100k/u5.base         \n",
            "  inflating: ml-100k/u5.test         \n",
            "  inflating: ml-100k/ua.base         \n",
            "  inflating: ml-100k/ua.test         \n",
            "  inflating: ml-100k/ub.base         \n",
            "  inflating: ml-100k/ub.test         \n"
          ]
        }
      ]
    },
    {
      "cell_type": "code",
      "source": [
        "import pandas as pd\n",
        "from surprise import Dataset, Reader\n",
        "\n",
        "# Load u.data into pandas DataFrame\n",
        "df = pd.read_csv('ml-100k/u.data', sep='\\t', names=['userID', 'itemID', 'rating', 'timestamp'])\n",
        "\n",
        "# Use Reader to load from DataFrame\n",
        "reader = Reader(rating_scale=(1, 5))\n",
        "data = Dataset.load_from_df(df[['userID', 'itemID', 'rating']], reader)\n"
      ],
      "metadata": {
        "id": "wdgWlGMEIVgr"
      },
      "execution_count": 3,
      "outputs": []
    },
    {
      "cell_type": "code",
      "source": [
        "from surprise import SVD\n",
        "from surprise.model_selection import train_test_split\n",
        "from surprise.accuracy import rmse\n",
        "\n",
        "trainset, testset = train_test_split(data, test_size=0.2, random_state=42)\n",
        "model = SVD()\n",
        "model.fit(trainset)\n",
        "predictions = model.test(testset)\n",
        "\n",
        "rmse(predictions)\n"
      ],
      "metadata": {
        "id": "AXqOXqMMJi-q",
        "outputId": "72554921-f364-4ff7-fa90-e0bf7549dcff",
        "colab": {
          "base_uri": "https://localhost:8080/"
        }
      },
      "execution_count": 4,
      "outputs": [
        {
          "output_type": "stream",
          "name": "stdout",
          "text": [
            "RMSE: 0.9375\n"
          ]
        },
        {
          "output_type": "execute_result",
          "data": {
            "text/plain": [
              "0.9374763904174391"
            ]
          },
          "metadata": {},
          "execution_count": 4
        }
      ]
    },
    {
      "cell_type": "code",
      "source": [
        "from collections import defaultdict\n",
        "\n",
        "def get_top_n(predictions, n=5):\n",
        "    top_n = defaultdict(list)\n",
        "    for uid, iid, true_r, est, _ in predictions:\n",
        "        top_n[uid].append((iid, est))\n",
        "\n",
        "    for uid, user_ratings in top_n.items():\n",
        "        user_ratings.sort(key=lambda x: x[1], reverse=True)\n",
        "        top_n[uid] = user_ratings[:n]\n",
        "    return top_n\n",
        "\n",
        "top_n = get_top_n(predictions, n=5)\n",
        "\n",
        "# Display for 5 users\n",
        "for uid, user_ratings in list(top_n.items())[:5]:\n",
        "    print(f\"\\nUser {uid} recommended items:\")\n",
        "    for (iid, rating) in user_ratings:\n",
        "        print(f\"  Movie {iid} with predicted rating {rating:.2f}\")\n"
      ],
      "metadata": {
        "id": "p95Fnsq_Jw5X",
        "outputId": "23871956-fb3e-4355-af4b-4b0aab8076fe",
        "colab": {
          "base_uri": "https://localhost:8080/"
        }
      },
      "execution_count": 5,
      "outputs": [
        {
          "output_type": "stream",
          "name": "stdout",
          "text": [
            "\n",
            "User 907 recommended items:\n",
            "  Movie 143 with predicted rating 5.00\n",
            "  Movie 98 with predicted rating 5.00\n",
            "  Movie 173 with predicted rating 4.98\n",
            "  Movie 647 with predicted rating 4.91\n",
            "  Movie 1 with predicted rating 4.90\n",
            "\n",
            "User 371 recommended items:\n",
            "  Movie 210 with predicted rating 4.28\n",
            "  Movie 186 with predicted rating 4.14\n",
            "  Movie 746 with predicted rating 4.10\n",
            "  Movie 237 with predicted rating 4.05\n",
            "  Movie 175 with predicted rating 4.03\n",
            "\n",
            "User 218 recommended items:\n",
            "  Movie 12 with predicted rating 4.07\n",
            "  Movie 654 with predicted rating 4.02\n",
            "  Movie 209 with predicted rating 3.76\n",
            "  Movie 42 with predicted rating 3.46\n",
            "  Movie 47 with predicted rating 3.43\n",
            "\n",
            "User 829 recommended items:\n",
            "  Movie 408 with predicted rating 4.18\n",
            "  Movie 213 with predicted rating 4.03\n",
            "  Movie 198 with predicted rating 3.97\n",
            "  Movie 190 with predicted rating 3.86\n",
            "  Movie 170 with predicted rating 3.85\n",
            "\n",
            "User 733 recommended items:\n",
            "  Movie 515 with predicted rating 3.92\n",
            "  Movie 14 with predicted rating 3.60\n",
            "  Movie 1129 with predicted rating 3.44\n",
            "  Movie 1 with predicted rating 3.41\n",
            "  Movie 922 with predicted rating 3.34\n"
          ]
        }
      ]
    }
  ]
}